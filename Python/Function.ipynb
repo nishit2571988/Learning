{
 "cells": [
  {
   "cell_type": "code",
   "execution_count": 1,
   "id": "dc7f2b51",
   "metadata": {},
   "outputs": [
    {
     "data": {
      "text/plain": [
       "3"
      ]
     },
     "execution_count": 1,
     "metadata": {},
     "output_type": "execute_result"
    }
   ],
   "source": [
    "a=1\n",
    "b=2\n",
    "a+b"
   ]
  },
  {
   "cell_type": "code",
   "execution_count": 4,
   "id": "c2993382",
   "metadata": {},
   "outputs": [],
   "source": [
    "def test(x,y):\n",
    "    return x+y\n"
   ]
  },
  {
   "cell_type": "code",
   "execution_count": 6,
   "id": "7773c808",
   "metadata": {},
   "outputs": [
    {
     "data": {
      "text/plain": [
       "int"
      ]
     },
     "execution_count": 6,
     "metadata": {},
     "output_type": "execute_result"
    }
   ],
   "source": [
    "type(test(1,5))"
   ]
  },
  {
   "cell_type": "code",
   "execution_count": 7,
   "id": "1d289f7c",
   "metadata": {},
   "outputs": [],
   "source": [
    "def test2(t,n,m):\n",
    "    return t+n,\n"
   ]
  },
  {
   "cell_type": "code",
   "execution_count": 9,
   "id": "e0ec7136",
   "metadata": {},
   "outputs": [
    {
     "data": {
      "text/plain": [
       "3"
      ]
     },
     "execution_count": 9,
     "metadata": {},
     "output_type": "execute_result"
    }
   ],
   "source": [
    "test2(1,2,3)"
   ]
  },
  {
   "cell_type": "code",
   "execution_count": 35,
   "id": "1b81a8b0",
   "metadata": {},
   "outputs": [],
   "source": [
    "def test3(t,n):\n",
    "    return t+n,t*n"
   ]
  },
  {
   "cell_type": "code",
   "execution_count": 14,
   "id": "7c1eac38",
   "metadata": {},
   "outputs": [
    {
     "data": {
      "text/plain": [
       "(12, 20, 8)"
      ]
     },
     "execution_count": 14,
     "metadata": {},
     "output_type": "execute_result"
    }
   ],
   "source": [
    "test3(10,2)"
   ]
  },
  {
   "cell_type": "code",
   "execution_count": 31,
   "id": "107af3c4",
   "metadata": {},
   "outputs": [
    {
     "ename": "ValueError",
     "evalue": "not enough values to unpack (expected 3, got 2)",
     "output_type": "error",
     "traceback": [
      "\u001b[1;31m---------------------------------------------------------------------------\u001b[0m",
      "\u001b[1;31mValueError\u001b[0m                                Traceback (most recent call last)",
      "\u001b[1;32m~\\AppData\\Local\\Temp/ipykernel_4976/2072492827.py\u001b[0m in \u001b[0;36m<module>\u001b[1;34m\u001b[0m\n\u001b[1;32m----> 1\u001b[1;33m \u001b[0m_\u001b[0m\u001b[1;33m,\u001b[0m\u001b[0mb\u001b[0m\u001b[1;33m,\u001b[0m\u001b[0m_\u001b[0m\u001b[1;33m=\u001b[0m\u001b[0mtest3\u001b[0m\u001b[1;33m(\u001b[0m\u001b[1;36m10\u001b[0m\u001b[1;33m,\u001b[0m\u001b[1;36m2\u001b[0m\u001b[1;33m)\u001b[0m\u001b[1;33m\u001b[0m\u001b[1;33m\u001b[0m\u001b[0m\n\u001b[0m",
      "\u001b[1;31mValueError\u001b[0m: not enough values to unpack (expected 3, got 2)"
     ]
    }
   ],
   "source": [
    "_,b,_=test3(10,2)"
   ]
  },
  {
   "cell_type": "code",
   "execution_count": 32,
   "id": "ba752209",
   "metadata": {},
   "outputs": [
    {
     "ename": "NameError",
     "evalue": "name 'b' is not defined",
     "output_type": "error",
     "traceback": [
      "\u001b[1;31m---------------------------------------------------------------------------\u001b[0m",
      "\u001b[1;31mNameError\u001b[0m                                 Traceback (most recent call last)",
      "\u001b[1;32m~\\AppData\\Local\\Temp/ipykernel_4976/1685013873.py\u001b[0m in \u001b[0;36m<module>\u001b[1;34m\u001b[0m\n\u001b[1;32m----> 1\u001b[1;33m \u001b[0mb\u001b[0m\u001b[1;33m\u001b[0m\u001b[1;33m\u001b[0m\u001b[0m\n\u001b[0m",
      "\u001b[1;31mNameError\u001b[0m: name 'b' is not defined"
     ]
    }
   ],
   "source": [
    "b"
   ]
  },
  {
   "cell_type": "code",
   "execution_count": 17,
   "id": "f2c1d091",
   "metadata": {},
   "outputs": [
    {
     "data": {
      "text/plain": [
       "50"
      ]
     },
     "execution_count": 17,
     "metadata": {},
     "output_type": "execute_result"
    }
   ],
   "source": [
    "y"
   ]
  },
  {
   "cell_type": "code",
   "execution_count": 22,
   "id": "96d08425",
   "metadata": {},
   "outputs": [
    {
     "data": {
      "text/plain": [
       "8"
      ]
     },
     "execution_count": 22,
     "metadata": {},
     "output_type": "execute_result"
    }
   ],
   "source": [
    "_"
   ]
  },
  {
   "cell_type": "code",
   "execution_count": 41,
   "id": "8eb68e75",
   "metadata": {},
   "outputs": [],
   "source": [
    "_,b=test3(10,2)"
   ]
  },
  {
   "cell_type": "code",
   "execution_count": 42,
   "id": "92d8b65f",
   "metadata": {},
   "outputs": [
    {
     "data": {
      "text/plain": [
       "12"
      ]
     },
     "execution_count": 42,
     "metadata": {},
     "output_type": "execute_result"
    }
   ],
   "source": [
    "_"
   ]
  },
  {
   "cell_type": "code",
   "execution_count": 43,
   "id": "4ed9da23",
   "metadata": {},
   "outputs": [],
   "source": [
    "def test():\n",
    "    \n",
    "    print(\"test fun\")"
   ]
  },
  {
   "cell_type": "code",
   "execution_count": 45,
   "id": "7fc5286f",
   "metadata": {},
   "outputs": [
    {
     "name": "stdout",
     "output_type": "stream",
     "text": [
      "test fun\n"
     ]
    },
    {
     "ename": "TypeError",
     "evalue": "unsupported operand type(s) for +: 'NoneType' and 'str'",
     "output_type": "error",
     "traceback": [
      "\u001b[1;31m---------------------------------------------------------------------------\u001b[0m",
      "\u001b[1;31mTypeError\u001b[0m                                 Traceback (most recent call last)",
      "\u001b[1;32m~\\AppData\\Local\\Temp/ipykernel_4976/2375656638.py\u001b[0m in \u001b[0;36m<module>\u001b[1;34m\u001b[0m\n\u001b[1;32m----> 1\u001b[1;33m \u001b[0mtest\u001b[0m\u001b[1;33m(\u001b[0m\u001b[1;33m)\u001b[0m\u001b[1;33m+\u001b[0m\u001b[1;34m\"dfsg\"\u001b[0m\u001b[1;33m\u001b[0m\u001b[1;33m\u001b[0m\u001b[0m\n\u001b[0m",
      "\u001b[1;31mTypeError\u001b[0m: unsupported operand type(s) for +: 'NoneType' and 'str'"
     ]
    }
   ],
   "source": [
    "test()+\"dfsg\""
   ]
  },
  {
   "cell_type": "code",
   "execution_count": 47,
   "id": "22415120",
   "metadata": {},
   "outputs": [],
   "source": [
    "def test7():\n",
    "    return \"str \""
   ]
  },
  {
   "cell_type": "code",
   "execution_count": 48,
   "id": "081b06cb",
   "metadata": {},
   "outputs": [
    {
     "data": {
      "text/plain": [
       "'str fff'"
      ]
     },
     "execution_count": 48,
     "metadata": {},
     "output_type": "execute_result"
    }
   ],
   "source": [
    "test7()+\"fff\""
   ]
  },
  {
   "cell_type": "code",
   "execution_count": 49,
   "id": "b6a23b6b",
   "metadata": {},
   "outputs": [],
   "source": [
    "def test8(n):\n",
    "    return n*2"
   ]
  },
  {
   "cell_type": "code",
   "execution_count": 50,
   "id": "1fe7cbed",
   "metadata": {},
   "outputs": [
    {
     "data": {
      "text/plain": [
       "20"
      ]
     },
     "execution_count": 50,
     "metadata": {},
     "output_type": "execute_result"
    }
   ],
   "source": [
    "test8(10)"
   ]
  },
  {
   "cell_type": "code",
   "execution_count": 51,
   "id": "c031eef1",
   "metadata": {},
   "outputs": [
    {
     "data": {
      "text/plain": [
       "[1, 2, 3, 4, 5, 1, 2, 3, 4, 5]"
      ]
     },
     "execution_count": 51,
     "metadata": {},
     "output_type": "execute_result"
    }
   ],
   "source": [
    "test8([1,2,3,4,5])"
   ]
  },
  {
   "cell_type": "code",
   "execution_count": 52,
   "id": "e5e7fa23",
   "metadata": {},
   "outputs": [],
   "source": [
    "def test9(n,m=60):\n",
    "    return n+m\n"
   ]
  },
  {
   "cell_type": "code",
   "execution_count": 53,
   "id": "384a30d4",
   "metadata": {},
   "outputs": [
    {
     "data": {
      "text/plain": [
       "150"
      ]
     },
     "execution_count": 53,
     "metadata": {},
     "output_type": "execute_result"
    }
   ],
   "source": [
    "test9(90)"
   ]
  },
  {
   "cell_type": "code",
   "execution_count": 54,
   "id": "e354f468",
   "metadata": {},
   "outputs": [
    {
     "data": {
      "text/plain": [
       "30"
      ]
     },
     "execution_count": 54,
     "metadata": {},
     "output_type": "execute_result"
    }
   ],
   "source": [
    "test9(10,20)"
   ]
  },
  {
   "cell_type": "code",
   "execution_count": 60,
   "id": "4c80af92",
   "metadata": {},
   "outputs": [],
   "source": [
    "def tessbool(x=True,y=False):\n",
    "    return x+y"
   ]
  },
  {
   "cell_type": "code",
   "execution_count": 56,
   "id": "2c34c4cf",
   "metadata": {},
   "outputs": [
    {
     "data": {
      "text/plain": [
       "10"
      ]
     },
     "execution_count": 56,
     "metadata": {},
     "output_type": "execute_result"
    }
   ],
   "source": [
    "tessbool(True,9)"
   ]
  },
  {
   "cell_type": "code",
   "execution_count": 57,
   "id": "e94498ea",
   "metadata": {},
   "outputs": [
    {
     "data": {
      "text/plain": [
       "10"
      ]
     },
     "execution_count": 57,
     "metadata": {},
     "output_type": "execute_result"
    }
   ],
   "source": [
    "tessbool(10)"
   ]
  },
  {
   "cell_type": "code",
   "execution_count": 61,
   "id": "9cf67940",
   "metadata": {},
   "outputs": [
    {
     "data": {
      "text/plain": [
       "1"
      ]
     },
     "execution_count": 61,
     "metadata": {},
     "output_type": "execute_result"
    }
   ],
   "source": [
    "tessbool()"
   ]
  },
  {
   "cell_type": "code",
   "execution_count": 82,
   "id": "cd250dc3",
   "metadata": {},
   "outputs": [],
   "source": [
    "def test11(*a,b=\"nishit\"):\n",
    "    l=[]\n",
    "    for i in a:\n",
    "        l+=i\n",
    "    return l"
   ]
  },
  {
   "cell_type": "code",
   "execution_count": 83,
   "id": "1291cbab",
   "metadata": {},
   "outputs": [
    {
     "data": {
      "text/plain": [
       "[1, 2, 3, 4, 5, 6, 7, 8, 9]"
      ]
     },
     "execution_count": 83,
     "metadata": {},
     "output_type": "execute_result"
    }
   ],
   "source": [
    "test11([1,2,3],[4,5,6],[7,8,9])"
   ]
  },
  {
   "cell_type": "code",
   "execution_count": 88,
   "id": "532df065",
   "metadata": {},
   "outputs": [],
   "source": [
    "def aaa(**bb):\n",
    "    return bb"
   ]
  },
  {
   "cell_type": "code",
   "execution_count": 90,
   "id": "c7c1607e",
   "metadata": {},
   "outputs": [
    {
     "data": {
      "text/plain": [
       "{'a': 2, 'b': 3}"
      ]
     },
     "execution_count": 90,
     "metadata": {},
     "output_type": "execute_result"
    }
   ],
   "source": [
    "aaa(a=2,b=3)"
   ]
  },
  {
   "cell_type": "code",
   "execution_count": null,
   "id": "279b03ca",
   "metadata": {},
   "outputs": [],
   "source": [
    "def test()"
   ]
  }
 ],
 "metadata": {
  "kernelspec": {
   "display_name": "Python 3 (ipykernel)",
   "language": "python",
   "name": "python3"
  },
  "language_info": {
   "codemirror_mode": {
    "name": "ipython",
    "version": 3
   },
   "file_extension": ".py",
   "mimetype": "text/x-python",
   "name": "python",
   "nbconvert_exporter": "python",
   "pygments_lexer": "ipython3",
   "version": "3.9.7"
  }
 },
 "nbformat": 4,
 "nbformat_minor": 5
}
