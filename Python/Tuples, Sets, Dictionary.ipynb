{
 "cells": [
  {
   "cell_type": "code",
   "execution_count": 1,
   "id": "db175f6a",
   "metadata": {},
   "outputs": [
    {
     "data": {
      "text/plain": [
       "tuple"
      ]
     },
     "execution_count": 1,
     "metadata": {},
     "output_type": "execute_result"
    }
   ],
   "source": [
    "t=()\n",
    "type(t)"
   ]
  },
  {
   "cell_type": "code",
   "execution_count": 2,
   "id": "04fbb04b",
   "metadata": {},
   "outputs": [
    {
     "data": {
      "text/plain": [
       "list"
      ]
     },
     "execution_count": 2,
     "metadata": {},
     "output_type": "execute_result"
    }
   ],
   "source": [
    "l=[]\n",
    "type(l)"
   ]
  },
  {
   "cell_type": "code",
   "execution_count": 3,
   "id": "327ebb77",
   "metadata": {},
   "outputs": [],
   "source": [
    "t1=(231,34,\"nishi\",3.45,True,6+6j)"
   ]
  },
  {
   "cell_type": "code",
   "execution_count": 4,
   "id": "923e818a",
   "metadata": {},
   "outputs": [],
   "source": [
    "l1=[231,34,\"nishi\",3.45,True,6+6j]"
   ]
  },
  {
   "cell_type": "code",
   "execution_count": 5,
   "id": "7871b14c",
   "metadata": {},
   "outputs": [
    {
     "data": {
      "text/plain": [
       "(231, 34, 'nishi', 3.45, True, (6+6j))"
      ]
     },
     "execution_count": 5,
     "metadata": {},
     "output_type": "execute_result"
    }
   ],
   "source": [
    "t1"
   ]
  },
  {
   "cell_type": "code",
   "execution_count": 6,
   "id": "2b920b1c",
   "metadata": {},
   "outputs": [
    {
     "data": {
      "text/plain": [
       "[231, 34, 'nishi', 3.45, True, (6+6j)]"
      ]
     },
     "execution_count": 6,
     "metadata": {},
     "output_type": "execute_result"
    }
   ],
   "source": [
    "l1"
   ]
  },
  {
   "cell_type": "code",
   "execution_count": 7,
   "id": "ab0e9088",
   "metadata": {},
   "outputs": [
    {
     "data": {
      "text/plain": [
       "231"
      ]
     },
     "execution_count": 7,
     "metadata": {},
     "output_type": "execute_result"
    }
   ],
   "source": [
    "t1[0]"
   ]
  },
  {
   "cell_type": "code",
   "execution_count": 8,
   "id": "fc3f6534",
   "metadata": {},
   "outputs": [
    {
     "data": {
      "text/plain": [
       "(231, 34, 'nishi', 3.45)"
      ]
     },
     "execution_count": 8,
     "metadata": {},
     "output_type": "execute_result"
    }
   ],
   "source": [
    "t1[0:4]"
   ]
  },
  {
   "cell_type": "code",
   "execution_count": 9,
   "id": "c81b4f75",
   "metadata": {},
   "outputs": [
    {
     "data": {
      "text/plain": [
       "((6+6j), True, 3.45, 'nishi', 34, 231)"
      ]
     },
     "execution_count": 9,
     "metadata": {},
     "output_type": "execute_result"
    }
   ],
   "source": [
    "t1[::-1]"
   ]
  },
  {
   "cell_type": "code",
   "execution_count": 11,
   "id": "c674f97a",
   "metadata": {},
   "outputs": [
    {
     "data": {
      "text/plain": [
       "(6+6j)"
      ]
     },
     "execution_count": 11,
     "metadata": {},
     "output_type": "execute_result"
    }
   ],
   "source": [
    "t1[-1]"
   ]
  },
  {
   "cell_type": "code",
   "execution_count": 16,
   "id": "de05b40e",
   "metadata": {},
   "outputs": [
    {
     "data": {
      "text/plain": [
       "[234, 34, 'nishi', 3.45, True, (6+6j)]"
      ]
     },
     "execution_count": 16,
     "metadata": {},
     "output_type": "execute_result"
    }
   ],
   "source": [
    "l1[0]=234\n",
    "l1"
   ]
  },
  {
   "cell_type": "code",
   "execution_count": 17,
   "id": "7e8c50cc",
   "metadata": {},
   "outputs": [
    {
     "data": {
      "text/plain": [
       "1"
      ]
     },
     "execution_count": 17,
     "metadata": {},
     "output_type": "execute_result"
    }
   ],
   "source": [
    "t1.count(\"nishi\")"
   ]
  },
  {
   "cell_type": "code",
   "execution_count": 19,
   "id": "4a968a3d",
   "metadata": {},
   "outputs": [
    {
     "data": {
      "text/plain": [
       "2"
      ]
     },
     "execution_count": 19,
     "metadata": {},
     "output_type": "execute_result"
    }
   ],
   "source": [
    "t1.index(\"nishi\")"
   ]
  },
  {
   "cell_type": "code",
   "execution_count": 20,
   "id": "43559ed8",
   "metadata": {},
   "outputs": [
    {
     "data": {
      "text/plain": [
       "(231, 34, 'nishi', 3.45, True, (6+6j))"
      ]
     },
     "execution_count": 20,
     "metadata": {},
     "output_type": "execute_result"
    }
   ],
   "source": [
    "t1\n"
   ]
  },
  {
   "cell_type": "code",
   "execution_count": 21,
   "id": "5eb9b827",
   "metadata": {},
   "outputs": [],
   "source": [
    "t2=(1,2,4)"
   ]
  },
  {
   "cell_type": "code",
   "execution_count": 22,
   "id": "7581a501",
   "metadata": {},
   "outputs": [
    {
     "data": {
      "text/plain": [
       "(231, 34, 'nishi', 3.45, True, (6+6j), 1, 2, 4)"
      ]
     },
     "execution_count": 22,
     "metadata": {},
     "output_type": "execute_result"
    }
   ],
   "source": [
    "t1+t2"
   ]
  },
  {
   "cell_type": "code",
   "execution_count": 23,
   "id": "fb4f3d15",
   "metadata": {},
   "outputs": [
    {
     "data": {
      "text/plain": [
       "(231, 34, 'nishi', 3.45, True, (6+6j), 231, 34, 'nishi', 3.45, True, (6+6j))"
      ]
     },
     "execution_count": 23,
     "metadata": {},
     "output_type": "execute_result"
    }
   ],
   "source": [
    "t1*2"
   ]
  },
  {
   "cell_type": "code",
   "execution_count": 24,
   "id": "5749d202",
   "metadata": {},
   "outputs": [
    {
     "data": {
      "text/plain": [
       "True"
      ]
     },
     "execution_count": 24,
     "metadata": {},
     "output_type": "execute_result"
    }
   ],
   "source": [
    "231 in t1"
   ]
  },
  {
   "cell_type": "code",
   "execution_count": 25,
   "id": "73ee027f",
   "metadata": {},
   "outputs": [
    {
     "data": {
      "text/plain": [
       "False"
      ]
     },
     "execution_count": 25,
     "metadata": {},
     "output_type": "execute_result"
    }
   ],
   "source": [
    "333 in t1"
   ]
  },
  {
   "cell_type": "code",
   "execution_count": 26,
   "id": "0c40fcb8",
   "metadata": {},
   "outputs": [
    {
     "data": {
      "text/plain": [
       "[234, 34, 'nishi', 3.45, True, (6+6j)]"
      ]
     },
     "execution_count": 26,
     "metadata": {},
     "output_type": "execute_result"
    }
   ],
   "source": [
    "l1\n"
   ]
  },
  {
   "cell_type": "code",
   "execution_count": 27,
   "id": "aab00baf",
   "metadata": {},
   "outputs": [
    {
     "data": {
      "text/plain": [
       "True"
      ]
     },
     "execution_count": 27,
     "metadata": {},
     "output_type": "execute_result"
    }
   ],
   "source": [
    "234 in l1"
   ]
  },
  {
   "cell_type": "code",
   "execution_count": 28,
   "id": "84364758",
   "metadata": {},
   "outputs": [
    {
     "ename": "TypeError",
     "evalue": "'>' not supported between instances of 'str' and 'int'",
     "output_type": "error",
     "traceback": [
      "\u001b[1;31m---------------------------------------------------------------------------\u001b[0m",
      "\u001b[1;31mTypeError\u001b[0m                                 Traceback (most recent call last)",
      "\u001b[1;32m~\\AppData\\Local\\Temp/ipykernel_7696/3099455752.py\u001b[0m in \u001b[0;36m<module>\u001b[1;34m\u001b[0m\n\u001b[1;32m----> 1\u001b[1;33m \u001b[0mmax\u001b[0m\u001b[1;33m(\u001b[0m\u001b[0mt1\u001b[0m\u001b[1;33m)\u001b[0m\u001b[1;33m\u001b[0m\u001b[1;33m\u001b[0m\u001b[0m\n\u001b[0m",
      "\u001b[1;31mTypeError\u001b[0m: '>' not supported between instances of 'str' and 'int'"
     ]
    }
   ],
   "source": [
    "max(t1)"
   ]
  },
  {
   "cell_type": "code",
   "execution_count": 29,
   "id": "cd39e823",
   "metadata": {},
   "outputs": [],
   "source": [
    "t1=(1,2,3)"
   ]
  },
  {
   "cell_type": "code",
   "execution_count": 30,
   "id": "08ee844c",
   "metadata": {},
   "outputs": [
    {
     "data": {
      "text/plain": [
       "3"
      ]
     },
     "execution_count": 30,
     "metadata": {},
     "output_type": "execute_result"
    }
   ],
   "source": [
    "max(t1)"
   ]
  },
  {
   "cell_type": "code",
   "execution_count": 31,
   "id": "4f06510e",
   "metadata": {},
   "outputs": [
    {
     "data": {
      "text/plain": [
       "1"
      ]
     },
     "execution_count": 31,
     "metadata": {},
     "output_type": "execute_result"
    }
   ],
   "source": [
    "min(t1)"
   ]
  },
  {
   "cell_type": "code",
   "execution_count": 40,
   "id": "f6eadb1a",
   "metadata": {},
   "outputs": [],
   "source": [
    "l=[[1,2,3],(4,5,6),(\"aaa\",55),(4,5,6,7)]"
   ]
  },
  {
   "cell_type": "code",
   "execution_count": 35,
   "id": "071c03b9",
   "metadata": {},
   "outputs": [
    {
     "data": {
      "text/plain": [
       "6"
      ]
     },
     "execution_count": 35,
     "metadata": {},
     "output_type": "execute_result"
    }
   ],
   "source": [
    "t[3][2]"
   ]
  },
  {
   "cell_type": "code",
   "execution_count": 41,
   "id": "3a3d32e3",
   "metadata": {},
   "outputs": [
    {
     "data": {
      "text/plain": [
       "[[1, 2, 3], (4, 5, 6), ('aaa', 55), (4, 5, 6, 7)]"
      ]
     },
     "execution_count": 41,
     "metadata": {},
     "output_type": "execute_result"
    }
   ],
   "source": [
    "l"
   ]
  },
  {
   "cell_type": "code",
   "execution_count": 39,
   "id": "0cac9018",
   "metadata": {},
   "outputs": [
    {
     "data": {
      "text/plain": [
       "5"
      ]
     },
     "execution_count": 39,
     "metadata": {},
     "output_type": "execute_result"
    }
   ],
   "source": [
    "l[3][1]"
   ]
  },
  {
   "cell_type": "code",
   "execution_count": 42,
   "id": "7815d7c9",
   "metadata": {},
   "outputs": [],
   "source": [
    "t=(1,2,3)"
   ]
  },
  {
   "cell_type": "code",
   "execution_count": 43,
   "id": "40fb2b25",
   "metadata": {},
   "outputs": [
    {
     "ename": "SyntaxError",
     "evalue": "cannot delete literal (Temp/ipykernel_7696/2933786348.py, line 1)",
     "output_type": "error",
     "traceback": [
      "\u001b[1;36m  File \u001b[1;32m\"C:\\Users\\nikita\\AppData\\Local\\Temp/ipykernel_7696/2933786348.py\"\u001b[1;36m, line \u001b[1;32m1\u001b[0m\n\u001b[1;33m    del(1)\u001b[0m\n\u001b[1;37m        ^\u001b[0m\n\u001b[1;31mSyntaxError\u001b[0m\u001b[1;31m:\u001b[0m cannot delete literal\n"
     ]
    }
   ],
   "source": [
    "del(1)"
   ]
  },
  {
   "cell_type": "code",
   "execution_count": 44,
   "id": "80722689",
   "metadata": {},
   "outputs": [],
   "source": [
    "ss=1"
   ]
  },
  {
   "cell_type": "code",
   "execution_count": 45,
   "id": "0140496b",
   "metadata": {},
   "outputs": [],
   "source": [
    "del(ss)"
   ]
  },
  {
   "cell_type": "code",
   "execution_count": 46,
   "id": "995a39b0",
   "metadata": {},
   "outputs": [
    {
     "data": {
      "text/plain": [
       "(1, 2, 3)"
      ]
     },
     "execution_count": 46,
     "metadata": {},
     "output_type": "execute_result"
    }
   ],
   "source": [
    "t"
   ]
  },
  {
   "cell_type": "code",
   "execution_count": 47,
   "id": "d401b351",
   "metadata": {},
   "outputs": [
    {
     "ename": "NameError",
     "evalue": "name 'ss' is not defined",
     "output_type": "error",
     "traceback": [
      "\u001b[1;31m---------------------------------------------------------------------------\u001b[0m",
      "\u001b[1;31mNameError\u001b[0m                                 Traceback (most recent call last)",
      "\u001b[1;32m~\\AppData\\Local\\Temp/ipykernel_7696/164596383.py\u001b[0m in \u001b[0;36m<module>\u001b[1;34m\u001b[0m\n\u001b[1;32m----> 1\u001b[1;33m \u001b[0mss\u001b[0m\u001b[1;33m\u001b[0m\u001b[1;33m\u001b[0m\u001b[0m\n\u001b[0m",
      "\u001b[1;31mNameError\u001b[0m: name 'ss' is not defined"
     ]
    }
   ],
   "source": [
    "ss"
   ]
  },
  {
   "cell_type": "code",
   "execution_count": 48,
   "id": "e3fce6f6",
   "metadata": {},
   "outputs": [],
   "source": [
    "x=set()\n"
   ]
  },
  {
   "cell_type": "code",
   "execution_count": 49,
   "id": "6f3a299d",
   "metadata": {},
   "outputs": [
    {
     "data": {
      "text/plain": [
       "set"
      ]
     },
     "execution_count": 49,
     "metadata": {},
     "output_type": "execute_result"
    }
   ],
   "source": [
    "type(x)"
   ]
  },
  {
   "cell_type": "code",
   "execution_count": 53,
   "id": "ecc23c4f",
   "metadata": {},
   "outputs": [],
   "source": [
    "l=[1,2,3,4,5,2,4,5,3,4,\"nishit\",\"Nishit\",\"Test\"]"
   ]
  },
  {
   "cell_type": "code",
   "execution_count": 51,
   "id": "cbd6c038",
   "metadata": {},
   "outputs": [
    {
     "data": {
      "text/plain": [
       "[1, 2, 3, 4, 5, 2, 4, 5, 3, 4, 'nishit', 'nishit', 'Test']"
      ]
     },
     "execution_count": 51,
     "metadata": {},
     "output_type": "execute_result"
    }
   ],
   "source": [
    "l"
   ]
  },
  {
   "cell_type": "code",
   "execution_count": 55,
   "id": "30fba10f",
   "metadata": {},
   "outputs": [],
   "source": [
    "s=set(l)"
   ]
  },
  {
   "cell_type": "code",
   "execution_count": 56,
   "id": "c6e8c46c",
   "metadata": {},
   "outputs": [
    {
     "data": {
      "text/plain": [
       "{1, 2, 3, 4, 5, 'Nishit', 'Test', 'nishit'}"
      ]
     },
     "execution_count": 56,
     "metadata": {},
     "output_type": "execute_result"
    }
   ],
   "source": [
    "s"
   ]
  },
  {
   "cell_type": "code",
   "execution_count": 57,
   "id": "eaf591df",
   "metadata": {},
   "outputs": [
    {
     "name": "stdout",
     "output_type": "stream",
     "text": [
      "1\n",
      "2\n",
      "3\n",
      "4\n",
      "5\n",
      "Test\n",
      "nishit\n",
      "Nishit\n"
     ]
    }
   ],
   "source": [
    "for i in s:\n",
    "    print(i)"
   ]
  },
  {
   "cell_type": "code",
   "execution_count": 58,
   "id": "a946feea",
   "metadata": {},
   "outputs": [
    {
     "data": {
      "text/plain": [
       "False"
      ]
     },
     "execution_count": 58,
     "metadata": {},
     "output_type": "execute_result"
    }
   ],
   "source": [
    "34 in s"
   ]
  },
  {
   "cell_type": "code",
   "execution_count": 59,
   "id": "ee84d0e1",
   "metadata": {},
   "outputs": [
    {
     "data": {
      "text/plain": [
       "{1, 2, 3, 4, 5, 'Nishit', 'Test', 'nishit'}"
      ]
     },
     "execution_count": 59,
     "metadata": {},
     "output_type": "execute_result"
    }
   ],
   "source": [
    "s"
   ]
  },
  {
   "cell_type": "code",
   "execution_count": 60,
   "id": "bf66b880",
   "metadata": {},
   "outputs": [],
   "source": [
    "s.add(33)"
   ]
  },
  {
   "cell_type": "code",
   "execution_count": 61,
   "id": "e71a2997",
   "metadata": {},
   "outputs": [
    {
     "data": {
      "text/plain": [
       "{1, 2, 3, 33, 4, 5, 'Nishit', 'Test', 'nishit'}"
      ]
     },
     "execution_count": 61,
     "metadata": {},
     "output_type": "execute_result"
    }
   ],
   "source": [
    "s"
   ]
  },
  {
   "cell_type": "code",
   "execution_count": 62,
   "id": "b330b946",
   "metadata": {},
   "outputs": [],
   "source": [
    "s.add(\"aa\")"
   ]
  },
  {
   "cell_type": "code",
   "execution_count": 63,
   "id": "10eb782f",
   "metadata": {},
   "outputs": [
    {
     "data": {
      "text/plain": [
       "{1, 2, 3, 33, 4, 5, 'Nishit', 'Test', 'aa', 'nishit'}"
      ]
     },
     "execution_count": 63,
     "metadata": {},
     "output_type": "execute_result"
    }
   ],
   "source": [
    "s"
   ]
  },
  {
   "cell_type": "code",
   "execution_count": 64,
   "id": "f057f8d7",
   "metadata": {},
   "outputs": [
    {
     "data": {
      "text/plain": [
       "1"
      ]
     },
     "execution_count": 64,
     "metadata": {},
     "output_type": "execute_result"
    }
   ],
   "source": [
    "s.pop()\n"
   ]
  },
  {
   "cell_type": "code",
   "execution_count": 65,
   "id": "789a941f",
   "metadata": {},
   "outputs": [
    {
     "data": {
      "text/plain": [
       "{2, 3, 33, 4, 5, 'Nishit', 'Test', 'aa', 'nishit'}"
      ]
     },
     "execution_count": 65,
     "metadata": {},
     "output_type": "execute_result"
    }
   ],
   "source": [
    "s"
   ]
  },
  {
   "cell_type": "code",
   "execution_count": 66,
   "id": "3db509be",
   "metadata": {},
   "outputs": [],
   "source": [
    "s.add(33)"
   ]
  },
  {
   "cell_type": "code",
   "execution_count": 67,
   "id": "e7c28bff",
   "metadata": {},
   "outputs": [
    {
     "data": {
      "text/plain": [
       "{2, 3, 33, 4, 5, 'Nishit', 'Test', 'aa', 'nishit'}"
      ]
     },
     "execution_count": 67,
     "metadata": {},
     "output_type": "execute_result"
    }
   ],
   "source": [
    "s"
   ]
  },
  {
   "cell_type": "code",
   "execution_count": 70,
   "id": "bbc5c68c",
   "metadata": {},
   "outputs": [
    {
     "ename": "KeyError",
     "evalue": "33",
     "output_type": "error",
     "traceback": [
      "\u001b[1;31m---------------------------------------------------------------------------\u001b[0m",
      "\u001b[1;31mKeyError\u001b[0m                                  Traceback (most recent call last)",
      "\u001b[1;32m~\\AppData\\Local\\Temp/ipykernel_7696/842583095.py\u001b[0m in \u001b[0;36m<module>\u001b[1;34m\u001b[0m\n\u001b[1;32m----> 1\u001b[1;33m \u001b[0ms\u001b[0m\u001b[1;33m.\u001b[0m\u001b[0mremove\u001b[0m\u001b[1;33m(\u001b[0m\u001b[1;36m33\u001b[0m\u001b[1;33m)\u001b[0m\u001b[1;33m\u001b[0m\u001b[1;33m\u001b[0m\u001b[0m\n\u001b[0m",
      "\u001b[1;31mKeyError\u001b[0m: 33"
     ]
    }
   ],
   "source": [
    "s.remove(33)"
   ]
  },
  {
   "cell_type": "code",
   "execution_count": 69,
   "id": "425540bd",
   "metadata": {},
   "outputs": [
    {
     "data": {
      "text/plain": [
       "{2, 3, 4, 5, 'Nishit', 'Test', 'aa', 'nishit'}"
      ]
     },
     "execution_count": 69,
     "metadata": {},
     "output_type": "execute_result"
    }
   ],
   "source": [
    "s"
   ]
  },
  {
   "cell_type": "code",
   "execution_count": 71,
   "id": "9af6c435",
   "metadata": {},
   "outputs": [
    {
     "data": {
      "text/plain": [
       "True"
      ]
     },
     "execution_count": 71,
     "metadata": {},
     "output_type": "execute_result"
    }
   ],
   "source": [
    "4 in s"
   ]
  },
  {
   "cell_type": "code",
   "execution_count": 72,
   "id": "1c36cc10",
   "metadata": {},
   "outputs": [],
   "source": [
    "s.clear()"
   ]
  },
  {
   "cell_type": "code",
   "execution_count": 73,
   "id": "995b7ded",
   "metadata": {},
   "outputs": [
    {
     "data": {
      "text/plain": [
       "set()"
      ]
     },
     "execution_count": 73,
     "metadata": {},
     "output_type": "execute_result"
    }
   ],
   "source": [
    "s"
   ]
  },
  {
   "cell_type": "code",
   "execution_count": 74,
   "id": "10956bd7",
   "metadata": {},
   "outputs": [],
   "source": [
    "s.add(\"aaa\")\n",
    "s.add(121)\n",
    "s.add(354)\n",
    "s.add(234)"
   ]
  },
  {
   "cell_type": "code",
   "execution_count": 75,
   "id": "061225d9",
   "metadata": {},
   "outputs": [
    {
     "data": {
      "text/plain": [
       "{121, 234, 354, 'aaa'}"
      ]
     },
     "execution_count": 75,
     "metadata": {},
     "output_type": "execute_result"
    }
   ],
   "source": [
    "s"
   ]
  },
  {
   "cell_type": "code",
   "execution_count": 76,
   "id": "d73a1b39",
   "metadata": {},
   "outputs": [
    {
     "data": {
      "text/plain": [
       "[1, 2, 3, 4, 5, 2, 4, 5, 3, 4, 'nishit', 'Nishit', 'Test']"
      ]
     },
     "execution_count": 76,
     "metadata": {},
     "output_type": "execute_result"
    }
   ],
   "source": [
    "l"
   ]
  },
  {
   "cell_type": "code",
   "execution_count": 77,
   "id": "b804f277",
   "metadata": {},
   "outputs": [],
   "source": [
    "s1=set(l)"
   ]
  },
  {
   "cell_type": "code",
   "execution_count": 78,
   "id": "878cf9c3",
   "metadata": {},
   "outputs": [
    {
     "data": {
      "text/plain": [
       "{1, 2, 3, 4, 5, 'Nishit', 'Test', 'nishit'}"
      ]
     },
     "execution_count": 78,
     "metadata": {},
     "output_type": "execute_result"
    }
   ],
   "source": [
    "s1"
   ]
  },
  {
   "cell_type": "code",
   "execution_count": 79,
   "id": "904bdacd",
   "metadata": {},
   "outputs": [
    {
     "ename": "TypeError",
     "evalue": "unsupported operand type(s) for +: 'set' and 'set'",
     "output_type": "error",
     "traceback": [
      "\u001b[1;31m---------------------------------------------------------------------------\u001b[0m",
      "\u001b[1;31mTypeError\u001b[0m                                 Traceback (most recent call last)",
      "\u001b[1;32m~\\AppData\\Local\\Temp/ipykernel_7696/2246651983.py\u001b[0m in \u001b[0;36m<module>\u001b[1;34m\u001b[0m\n\u001b[1;32m----> 1\u001b[1;33m \u001b[0ms\u001b[0m\u001b[1;33m+\u001b[0m\u001b[0ms1\u001b[0m\u001b[1;33m\u001b[0m\u001b[1;33m\u001b[0m\u001b[0m\n\u001b[0m",
      "\u001b[1;31mTypeError\u001b[0m: unsupported operand type(s) for +: 'set' and 'set'"
     ]
    }
   ],
   "source": [
    "s+s1"
   ]
  },
  {
   "cell_type": "code",
   "execution_count": 80,
   "id": "0a5cf9bf",
   "metadata": {},
   "outputs": [],
   "source": [
    "l=list(s)"
   ]
  },
  {
   "cell_type": "code",
   "execution_count": 81,
   "id": "05419232",
   "metadata": {},
   "outputs": [
    {
     "data": {
      "text/plain": [
       "['aaa', 354, 234, 121]"
      ]
     },
     "execution_count": 81,
     "metadata": {},
     "output_type": "execute_result"
    }
   ],
   "source": [
    "l"
   ]
  },
  {
   "cell_type": "code",
   "execution_count": 82,
   "id": "10fbb456",
   "metadata": {},
   "outputs": [],
   "source": [
    "x={}"
   ]
  },
  {
   "cell_type": "code",
   "execution_count": 83,
   "id": "c5e48d32",
   "metadata": {},
   "outputs": [
    {
     "data": {
      "text/plain": [
       "dict"
      ]
     },
     "execution_count": 83,
     "metadata": {},
     "output_type": "execute_result"
    }
   ],
   "source": [
    "type(x)"
   ]
  },
  {
   "cell_type": "code",
   "execution_count": 84,
   "id": "839908e8",
   "metadata": {},
   "outputs": [],
   "source": [
    "x1={1,2}"
   ]
  },
  {
   "cell_type": "code",
   "execution_count": 85,
   "id": "42c7b694",
   "metadata": {},
   "outputs": [
    {
     "data": {
      "text/plain": [
       "set"
      ]
     },
     "execution_count": 85,
     "metadata": {},
     "output_type": "execute_result"
    }
   ],
   "source": [
    "type(x1)"
   ]
  },
  {
   "cell_type": "code",
   "execution_count": 86,
   "id": "c7112c12",
   "metadata": {},
   "outputs": [],
   "source": [
    "x={\"name\":\"nishit\",\"age\":\"33\"}"
   ]
  },
  {
   "cell_type": "code",
   "execution_count": 87,
   "id": "a2e1b0a0",
   "metadata": {},
   "outputs": [
    {
     "data": {
      "text/plain": [
       "dict"
      ]
     },
     "execution_count": 87,
     "metadata": {},
     "output_type": "execute_result"
    }
   ],
   "source": [
    "type(x)"
   ]
  },
  {
   "cell_type": "code",
   "execution_count": 88,
   "id": "e1e0cbb5",
   "metadata": {},
   "outputs": [
    {
     "data": {
      "text/plain": [
       "{'name': 'nishit', 'age': '33'}"
      ]
     },
     "execution_count": 88,
     "metadata": {},
     "output_type": "execute_result"
    }
   ],
   "source": [
    "x"
   ]
  },
  {
   "cell_type": "code",
   "execution_count": 94,
   "id": "c1e5b286",
   "metadata": {},
   "outputs": [],
   "source": [
    "x1={'name': 'nishit', 'age': '33',\"name\":\"sdfa\",True:{1,2,3},\"key\":False,3434:[454,34,35]}"
   ]
  },
  {
   "cell_type": "code",
   "execution_count": 90,
   "id": "ea944acf",
   "metadata": {},
   "outputs": [
    {
     "data": {
      "text/plain": [
       "{'name': 'nishit', 'age': '33'}"
      ]
     },
     "execution_count": 90,
     "metadata": {},
     "output_type": "execute_result"
    }
   ],
   "source": [
    "x"
   ]
  },
  {
   "cell_type": "code",
   "execution_count": 91,
   "id": "980d5540",
   "metadata": {},
   "outputs": [
    {
     "data": {
      "text/plain": [
       "{'name': 'sdfa', 'age': '33', True: 'sdfsd', 'key': False, 3434: 454}"
      ]
     },
     "execution_count": 91,
     "metadata": {},
     "output_type": "execute_result"
    }
   ],
   "source": [
    "x1"
   ]
  },
  {
   "cell_type": "code",
   "execution_count": 93,
   "id": "7b35c5a2",
   "metadata": {},
   "outputs": [
    {
     "data": {
      "text/plain": [
       "{'name': 'sdfa', 'age': '33', True: 'sdfsd', 'key': False, 3434: 454}"
      ]
     },
     "execution_count": 93,
     "metadata": {},
     "output_type": "execute_result"
    }
   ],
   "source": [
    "x1"
   ]
  },
  {
   "cell_type": "code",
   "execution_count": 95,
   "id": "957f6bb7",
   "metadata": {},
   "outputs": [
    {
     "data": {
      "text/plain": [
       "{'name': 'sdfa',\n",
       " 'age': '33',\n",
       " True: {1, 2, 3},\n",
       " 'key': False,\n",
       " 3434: [454, 34, 35]}"
      ]
     },
     "execution_count": 95,
     "metadata": {},
     "output_type": "execute_result"
    }
   ],
   "source": [
    "x1"
   ]
  },
  {
   "cell_type": "code",
   "execution_count": 108,
   "id": "3fe4c3ac",
   "metadata": {},
   "outputs": [],
   "source": [
    "x3={\"name\": {\"k1\":\"klval\",\"k2\":[33,44,55]}, 'age': '33',\"name\":\"sdfa\",True:{1,2,3},\"key\":False,3434:[454,34,35]}"
   ]
  },
  {
   "cell_type": "code",
   "execution_count": 109,
   "id": "fe20d26d",
   "metadata": {},
   "outputs": [
    {
     "data": {
      "text/plain": [
       "{'name': 'sdfa',\n",
       " 'age': '33',\n",
       " True: {1, 2, 3},\n",
       " 'key': False,\n",
       " 3434: [454, 34, 35]}"
      ]
     },
     "execution_count": 109,
     "metadata": {},
     "output_type": "execute_result"
    }
   ],
   "source": [
    "x3"
   ]
  },
  {
   "cell_type": "code",
   "execution_count": 110,
   "id": "ba12dd82",
   "metadata": {},
   "outputs": [],
   "source": [
    "x3={}"
   ]
  },
  {
   "cell_type": "code",
   "execution_count": 111,
   "id": "ecad7458",
   "metadata": {},
   "outputs": [
    {
     "data": {
      "text/plain": [
       "{}"
      ]
     },
     "execution_count": 111,
     "metadata": {},
     "output_type": "execute_result"
    }
   ],
   "source": [
    "x3"
   ]
  },
  {
   "cell_type": "code",
   "execution_count": 124,
   "id": "bc5ef910",
   "metadata": {},
   "outputs": [],
   "source": [
    "x3={\"name\": {\"k1\":\"klval\",\"k2\":[33,44,55]}, 'age': '33',True:{1,2,3},\"key\":False,3434:[454,34,35]}"
   ]
  },
  {
   "cell_type": "code",
   "execution_count": 115,
   "id": "7293d333",
   "metadata": {},
   "outputs": [
    {
     "data": {
      "text/plain": [
       "{'name': {'k1': 'klval', 'k2': [33, 44, 55]},\n",
       " 'age': '33',\n",
       " True: {1, 2, 3},\n",
       " 'key': False,\n",
       " 3434: [454, 34, 35]}"
      ]
     },
     "execution_count": 115,
     "metadata": {},
     "output_type": "execute_result"
    }
   ],
   "source": [
    "x3"
   ]
  },
  {
   "cell_type": "code",
   "execution_count": 122,
   "id": "b67727e4",
   "metadata": {},
   "outputs": [],
   "source": [
    "x4={(3,4):\"wer\",\"k4\":[1,2,3]}"
   ]
  },
  {
   "cell_type": "code",
   "execution_count": 123,
   "id": "97f6f3b1",
   "metadata": {},
   "outputs": [
    {
     "data": {
      "text/plain": [
       "{(3, 4): 'wer', 'k4': [1, 2, 3]}"
      ]
     },
     "execution_count": 123,
     "metadata": {},
     "output_type": "execute_result"
    }
   ],
   "source": [
    "x4"
   ]
  },
  {
   "cell_type": "code",
   "execution_count": 125,
   "id": "e2c2f52d",
   "metadata": {},
   "outputs": [
    {
     "data": {
      "text/plain": [
       "{'name': {'k1': 'klval', 'k2': [33, 44, 55]},\n",
       " 'age': '33',\n",
       " True: {1, 2, 3},\n",
       " 'key': False,\n",
       " 3434: [454, 34, 35]}"
      ]
     },
     "execution_count": 125,
     "metadata": {},
     "output_type": "execute_result"
    }
   ],
   "source": [
    "x3"
   ]
  },
  {
   "cell_type": "code",
   "execution_count": 126,
   "id": "bde10c3b",
   "metadata": {},
   "outputs": [
    {
     "data": {
      "text/plain": [
       "False"
      ]
     },
     "execution_count": 126,
     "metadata": {},
     "output_type": "execute_result"
    }
   ],
   "source": [
    "x3[\"key\"]"
   ]
  },
  {
   "cell_type": "code",
   "execution_count": 128,
   "id": "7195208a",
   "metadata": {},
   "outputs": [
    {
     "data": {
      "text/plain": [
       "[33, 44, 55]"
      ]
     },
     "execution_count": 128,
     "metadata": {},
     "output_type": "execute_result"
    }
   ],
   "source": [
    "x3[\"name\"][\"k2\"]"
   ]
  },
  {
   "cell_type": "code",
   "execution_count": 129,
   "id": "996224a3",
   "metadata": {},
   "outputs": [
    {
     "data": {
      "text/plain": [
       "35"
      ]
     },
     "execution_count": 129,
     "metadata": {},
     "output_type": "execute_result"
    }
   ],
   "source": [
    "x3[3434][2]"
   ]
  },
  {
   "cell_type": "code",
   "execution_count": 130,
   "id": "42eb9207",
   "metadata": {},
   "outputs": [],
   "source": [
    "x3={5:\"wer\",\"k4\":[33,44,55]}"
   ]
  },
  {
   "cell_type": "code",
   "execution_count": 131,
   "id": "51551394",
   "metadata": {},
   "outputs": [],
   "source": [
    "x4={\"k4\":\"sfsd\"}"
   ]
  },
  {
   "cell_type": "code",
   "execution_count": 132,
   "id": "07750d33",
   "metadata": {},
   "outputs": [
    {
     "ename": "TypeError",
     "evalue": "unsupported operand type(s) for +: 'dict' and 'dict'",
     "output_type": "error",
     "traceback": [
      "\u001b[1;31m---------------------------------------------------------------------------\u001b[0m",
      "\u001b[1;31mTypeError\u001b[0m                                 Traceback (most recent call last)",
      "\u001b[1;32m~\\AppData\\Local\\Temp/ipykernel_7696/1011359099.py\u001b[0m in \u001b[0;36m<module>\u001b[1;34m\u001b[0m\n\u001b[1;32m----> 1\u001b[1;33m \u001b[0mx3\u001b[0m\u001b[1;33m+\u001b[0m\u001b[0mx4\u001b[0m\u001b[1;33m\u001b[0m\u001b[1;33m\u001b[0m\u001b[0m\n\u001b[0m",
      "\u001b[1;31mTypeError\u001b[0m: unsupported operand type(s) for +: 'dict' and 'dict'"
     ]
    }
   ],
   "source": [
    "x3+x4"
   ]
  },
  {
   "cell_type": "code",
   "execution_count": 133,
   "id": "ccf9bfa7",
   "metadata": {},
   "outputs": [
    {
     "ename": "TypeError",
     "evalue": "unsupported operand type(s) for *: 'dict' and 'int'",
     "output_type": "error",
     "traceback": [
      "\u001b[1;31m---------------------------------------------------------------------------\u001b[0m",
      "\u001b[1;31mTypeError\u001b[0m                                 Traceback (most recent call last)",
      "\u001b[1;32m~\\AppData\\Local\\Temp/ipykernel_7696/1990439051.py\u001b[0m in \u001b[0;36m<module>\u001b[1;34m\u001b[0m\n\u001b[1;32m----> 1\u001b[1;33m \u001b[0mx3\u001b[0m\u001b[1;33m*\u001b[0m\u001b[1;36m3\u001b[0m\u001b[1;33m\u001b[0m\u001b[1;33m\u001b[0m\u001b[0m\n\u001b[0m",
      "\u001b[1;31mTypeError\u001b[0m: unsupported operand type(s) for *: 'dict' and 'int'"
     ]
    }
   ],
   "source": [
    "x3*3"
   ]
  },
  {
   "cell_type": "code",
   "execution_count": 134,
   "id": "f925f9e0",
   "metadata": {},
   "outputs": [
    {
     "data": {
      "text/plain": [
       "{5: 'wer', 'k4': [33, 44, 55]}"
      ]
     },
     "execution_count": 134,
     "metadata": {},
     "output_type": "execute_result"
    }
   ],
   "source": [
    "x3"
   ]
  },
  {
   "cell_type": "code",
   "execution_count": 136,
   "id": "af4984ae",
   "metadata": {},
   "outputs": [],
   "source": [
    "x3[\"k4\"]=\"nishit\""
   ]
  },
  {
   "cell_type": "code",
   "execution_count": 137,
   "id": "1310eafc",
   "metadata": {},
   "outputs": [
    {
     "data": {
      "text/plain": [
       "{5: 'wer', 'k4': 'nishit'}"
      ]
     },
     "execution_count": 137,
     "metadata": {},
     "output_type": "execute_result"
    }
   ],
   "source": [
    "x3"
   ]
  },
  {
   "cell_type": "code",
   "execution_count": 138,
   "id": "7a7c5af1",
   "metadata": {},
   "outputs": [
    {
     "data": {
      "text/plain": [
       "dict_keys([5, 'k4'])"
      ]
     },
     "execution_count": 138,
     "metadata": {},
     "output_type": "execute_result"
    }
   ],
   "source": [
    "x3.keys()"
   ]
  },
  {
   "cell_type": "code",
   "execution_count": 141,
   "id": "e5073950",
   "metadata": {},
   "outputs": [
    {
     "data": {
      "text/plain": [
       "True"
      ]
     },
     "execution_count": 141,
     "metadata": {},
     "output_type": "execute_result"
    }
   ],
   "source": [
    "\"k4\" in x3.keys()"
   ]
  },
  {
   "cell_type": "code",
   "execution_count": 143,
   "id": "c664d2c9",
   "metadata": {},
   "outputs": [
    {
     "name": "stdout",
     "output_type": "stream",
     "text": [
      "5\n",
      "k4\n"
     ]
    }
   ],
   "source": [
    "for i in x3:\n",
    "    print(i)"
   ]
  },
  {
   "cell_type": "code",
   "execution_count": 144,
   "id": "67c9e432",
   "metadata": {},
   "outputs": [
    {
     "name": "stdout",
     "output_type": "stream",
     "text": [
      "wer\n",
      "nishit\n"
     ]
    }
   ],
   "source": [
    "for i in x3.keys():\n",
    "    print(x3[i])"
   ]
  },
  {
   "cell_type": "code",
   "execution_count": 145,
   "id": "868b5312",
   "metadata": {},
   "outputs": [
    {
     "data": {
      "text/plain": [
       "{'name': 'sdfa',\n",
       " 'age': '33',\n",
       " True: {1, 2, 3},\n",
       " 'key': False,\n",
       " 3434: [454, 34, 35]}"
      ]
     },
     "execution_count": 145,
     "metadata": {},
     "output_type": "execute_result"
    }
   ],
   "source": [
    "x2"
   ]
  },
  {
   "cell_type": "code",
   "execution_count": 146,
   "id": "b1e2e524",
   "metadata": {},
   "outputs": [
    {
     "data": {
      "text/plain": [
       "dict_keys(['name', 'age', True, 'key', 3434])"
      ]
     },
     "execution_count": 146,
     "metadata": {},
     "output_type": "execute_result"
    }
   ],
   "source": [
    "x2.keys()"
   ]
  },
  {
   "cell_type": "code",
   "execution_count": 149,
   "id": "93e69407",
   "metadata": {},
   "outputs": [
    {
     "name": "stdout",
     "output_type": "stream",
     "text": [
      "<class 'str'>\n",
      "<class 'str'>\n",
      "<class 'set'>\n",
      "<class 'bool'>\n",
      "<class 'list'>\n"
     ]
    }
   ],
   "source": [
    "for i in x2.keys():\n",
    "    print(type(x2[i]))"
   ]
  },
  {
   "cell_type": "code",
   "execution_count": 150,
   "id": "2c0a67b3",
   "metadata": {},
   "outputs": [
    {
     "data": {
      "text/plain": [
       "dict_items([(5, 'wer'), ('k4', 'nishit')])"
      ]
     },
     "execution_count": 150,
     "metadata": {},
     "output_type": "execute_result"
    }
   ],
   "source": [
    "x3.items()"
   ]
  },
  {
   "cell_type": "code",
   "execution_count": 151,
   "id": "599ae6e4",
   "metadata": {},
   "outputs": [
    {
     "data": {
      "text/plain": [
       "dict_items([('name', 'sdfa'), ('age', '33'), (True, {1, 2, 3}), ('key', False), (3434, [454, 34, 35])])"
      ]
     },
     "execution_count": 151,
     "metadata": {},
     "output_type": "execute_result"
    }
   ],
   "source": [
    "x2.items()"
   ]
  },
  {
   "cell_type": "code",
   "execution_count": 152,
   "id": "ff8a6b32",
   "metadata": {},
   "outputs": [
    {
     "data": {
      "text/plain": [
       "dict_keys(['name', 'age', True, 'key', 3434])"
      ]
     },
     "execution_count": 152,
     "metadata": {},
     "output_type": "execute_result"
    }
   ],
   "source": [
    "x2.keys()"
   ]
  },
  {
   "cell_type": "code",
   "execution_count": 156,
   "id": "f4fcbf22",
   "metadata": {},
   "outputs": [
    {
     "name": "stdout",
     "output_type": "stream",
     "text": [
      "sdfa\n",
      "33\n",
      "{1, 2, 3}\n",
      "False\n",
      "[454, 34, 35]\n"
     ]
    }
   ],
   "source": [
    "for i in x2.items():\n",
    "    print(i[1])"
   ]
  },
  {
   "cell_type": "code",
   "execution_count": 157,
   "id": "80beab03",
   "metadata": {},
   "outputs": [
    {
     "data": {
      "text/plain": [
       "5"
      ]
     },
     "execution_count": 157,
     "metadata": {},
     "output_type": "execute_result"
    }
   ],
   "source": [
    "len(x2)"
   ]
  },
  {
   "cell_type": "code",
   "execution_count": 158,
   "id": "aef88e28",
   "metadata": {},
   "outputs": [],
   "source": [
    "e={56:{45,78,89}}"
   ]
  },
  {
   "cell_type": "code",
   "execution_count": 165,
   "id": "81b65687",
   "metadata": {},
   "outputs": [
    {
     "data": {
      "text/plain": [
       "[89, 45, 78]"
      ]
     },
     "execution_count": 165,
     "metadata": {},
     "output_type": "execute_result"
    }
   ],
   "source": [
    "list(e[56])"
   ]
  },
  {
   "cell_type": "code",
   "execution_count": 162,
   "id": "9e836a93",
   "metadata": {},
   "outputs": [],
   "source": [
    "l1=[1,4,5]"
   ]
  },
  {
   "cell_type": "code",
   "execution_count": 163,
   "id": "cb167769",
   "metadata": {},
   "outputs": [
    {
     "data": {
      "text/plain": [
       "[1, 4, 5]"
      ]
     },
     "execution_count": 163,
     "metadata": {},
     "output_type": "execute_result"
    }
   ],
   "source": [
    "l1"
   ]
  },
  {
   "cell_type": "code",
   "execution_count": 164,
   "id": "583c5518",
   "metadata": {},
   "outputs": [
    {
     "data": {
      "text/plain": [
       "4"
      ]
     },
     "execution_count": 164,
     "metadata": {},
     "output_type": "execute_result"
    }
   ],
   "source": [
    "l1[1]"
   ]
  },
  {
   "cell_type": "code",
   "execution_count": 166,
   "id": "c668c63c",
   "metadata": {},
   "outputs": [
    {
     "name": "stdout",
     "output_type": "stream",
     "text": [
      "Lorem Ipsum is simply dummy text of the printing and typesetting industry. Lorem Ipsum has been the industry's standard dummy text ever since the 1500s, when an unknown printer took a galley of type and scrambled it to make a type specimen book. It has survived not only five centuries, but also the leap into electronic typesetting, remaining essentially unchanged. It was popularised in the 1960s with the release of Letraset sheets containing Lorem Ipsum passages, and more recently with desktop publishing software like Aldus PageMaker including versions of Lorem Ipsum.\n"
     ]
    }
   ],
   "source": [
    "s=input()\n"
   ]
  },
  {
   "cell_type": "code",
   "execution_count": 170,
   "id": "d75470d2",
   "metadata": {},
   "outputs": [
    {
     "data": {
      "text/plain": [
       "\"Lorem Ipsum is simply dummy text of the printing and typesetting industry. Lorem Ipsum has been the industry's standard dummy text ever since the 1500s, when an unknown printer took a galley of type and scrambled it to make a type specimen book. It has survived not only five centuries, but also the leap into electronic typesetting, remaining essentially unchanged. It was popularised in the 1960s with the release of Letraset sheets containing Lorem Ipsum passages, and more recently with desktop publishing software like Aldus PageMaker including versions of Lorem Ipsum.\""
      ]
     },
     "execution_count": 170,
     "metadata": {},
     "output_type": "execute_result"
    }
   ],
   "source": [
    "s"
   ]
  },
  {
   "cell_type": "code",
   "execution_count": 171,
   "id": "d5fa58d7",
   "metadata": {},
   "outputs": [
    {
     "data": {
      "text/plain": [
       "['Lorem',\n",
       " 'Ipsum',\n",
       " 'is',\n",
       " 'simply',\n",
       " 'dummy',\n",
       " 'text',\n",
       " 'of',\n",
       " 'the',\n",
       " 'printing',\n",
       " 'and',\n",
       " 'typesetting',\n",
       " 'industry.',\n",
       " 'Lorem',\n",
       " 'Ipsum',\n",
       " 'has',\n",
       " 'been',\n",
       " 'the',\n",
       " \"industry's\",\n",
       " 'standard',\n",
       " 'dummy',\n",
       " 'text',\n",
       " 'ever',\n",
       " 'since',\n",
       " 'the',\n",
       " '1500s,',\n",
       " 'when',\n",
       " 'an',\n",
       " 'unknown',\n",
       " 'printer',\n",
       " 'took',\n",
       " 'a',\n",
       " 'galley',\n",
       " 'of',\n",
       " 'type',\n",
       " 'and',\n",
       " 'scrambled',\n",
       " 'it',\n",
       " 'to',\n",
       " 'make',\n",
       " 'a',\n",
       " 'type',\n",
       " 'specimen',\n",
       " 'book.',\n",
       " 'It',\n",
       " 'has',\n",
       " 'survived',\n",
       " 'not',\n",
       " 'only',\n",
       " 'five',\n",
       " 'centuries,',\n",
       " 'but',\n",
       " 'also',\n",
       " 'the',\n",
       " 'leap',\n",
       " 'into',\n",
       " 'electronic',\n",
       " 'typesetting,',\n",
       " 'remaining',\n",
       " 'essentially',\n",
       " 'unchanged.',\n",
       " 'It',\n",
       " 'was',\n",
       " 'popularised',\n",
       " 'in',\n",
       " 'the',\n",
       " '1960s',\n",
       " 'with',\n",
       " 'the',\n",
       " 'release',\n",
       " 'of',\n",
       " 'Letraset',\n",
       " 'sheets',\n",
       " 'containing',\n",
       " 'Lorem',\n",
       " 'Ipsum',\n",
       " 'passages,',\n",
       " 'and',\n",
       " 'more',\n",
       " 'recently',\n",
       " 'with',\n",
       " 'desktop',\n",
       " 'publishing',\n",
       " 'software',\n",
       " 'like',\n",
       " 'Aldus',\n",
       " 'PageMaker',\n",
       " 'including',\n",
       " 'versions',\n",
       " 'of',\n",
       " 'Lorem',\n",
       " 'Ipsum.']"
      ]
     },
     "execution_count": 171,
     "metadata": {},
     "output_type": "execute_result"
    }
   ],
   "source": [
    "list(s.split())"
   ]
  },
  {
   "cell_type": "code",
   "execution_count": 172,
   "id": "fcce2a93",
   "metadata": {},
   "outputs": [
    {
     "data": {
      "text/plain": [
       "{'1500s,',\n",
       " '1960s',\n",
       " 'Aldus',\n",
       " 'Ipsum',\n",
       " 'Ipsum.',\n",
       " 'It',\n",
       " 'Letraset',\n",
       " 'Lorem',\n",
       " 'PageMaker',\n",
       " 'a',\n",
       " 'also',\n",
       " 'an',\n",
       " 'and',\n",
       " 'been',\n",
       " 'book.',\n",
       " 'but',\n",
       " 'centuries,',\n",
       " 'containing',\n",
       " 'desktop',\n",
       " 'dummy',\n",
       " 'electronic',\n",
       " 'essentially',\n",
       " 'ever',\n",
       " 'five',\n",
       " 'galley',\n",
       " 'has',\n",
       " 'in',\n",
       " 'including',\n",
       " \"industry's\",\n",
       " 'industry.',\n",
       " 'into',\n",
       " 'is',\n",
       " 'it',\n",
       " 'leap',\n",
       " 'like',\n",
       " 'make',\n",
       " 'more',\n",
       " 'not',\n",
       " 'of',\n",
       " 'only',\n",
       " 'passages,',\n",
       " 'popularised',\n",
       " 'printer',\n",
       " 'printing',\n",
       " 'publishing',\n",
       " 'recently',\n",
       " 'release',\n",
       " 'remaining',\n",
       " 'scrambled',\n",
       " 'sheets',\n",
       " 'simply',\n",
       " 'since',\n",
       " 'software',\n",
       " 'specimen',\n",
       " 'standard',\n",
       " 'survived',\n",
       " 'text',\n",
       " 'the',\n",
       " 'to',\n",
       " 'took',\n",
       " 'type',\n",
       " 'typesetting',\n",
       " 'typesetting,',\n",
       " 'unchanged.',\n",
       " 'unknown',\n",
       " 'versions',\n",
       " 'was',\n",
       " 'when',\n",
       " 'with'}"
      ]
     },
     "execution_count": 172,
     "metadata": {},
     "output_type": "execute_result"
    }
   ],
   "source": [
    "set(list(s.split()))"
   ]
  },
  {
   "cell_type": "code",
   "execution_count": 179,
   "id": "519a4c40",
   "metadata": {},
   "outputs": [],
   "source": [
    "xd={}\n",
    "for i in set(list(s.split())):\n",
    "    xd[i]=\"nishit\""
   ]
  },
  {
   "cell_type": "code",
   "execution_count": 180,
   "id": "ab5ada51",
   "metadata": {},
   "outputs": [
    {
     "data": {
      "text/plain": [
       "{'the': 'nishit',\n",
       " 'to': 'nishit',\n",
       " 'sheets': 'nishit',\n",
       " 'recently': 'nishit',\n",
       " 'Ipsum': 'nishit',\n",
       " 'centuries,': 'nishit',\n",
       " 'took': 'nishit',\n",
       " 'in': 'nishit',\n",
       " 'make': 'nishit',\n",
       " 'with': 'nishit',\n",
       " 'printing': 'nishit',\n",
       " 'it': 'nishit',\n",
       " 'simply': 'nishit',\n",
       " 'publishing': 'nishit',\n",
       " 'survived': 'nishit',\n",
       " 'since': 'nishit',\n",
       " 'unknown': 'nishit',\n",
       " 'Ipsum.': 'nishit',\n",
       " 'containing': 'nishit',\n",
       " 'ever': 'nishit',\n",
       " 'text': 'nishit',\n",
       " '1500s,': 'nishit',\n",
       " 'scrambled': 'nishit',\n",
       " \"industry's\": 'nishit',\n",
       " 'essentially': 'nishit',\n",
       " 'dummy': 'nishit',\n",
       " 'book.': 'nishit',\n",
       " 'release': 'nishit',\n",
       " 'industry.': 'nishit',\n",
       " 'passages,': 'nishit',\n",
       " '1960s': 'nishit',\n",
       " 'a': 'nishit',\n",
       " 'Letraset': 'nishit',\n",
       " 'into': 'nishit',\n",
       " 'has': 'nishit',\n",
       " 'and': 'nishit',\n",
       " 'galley': 'nishit',\n",
       " 'software': 'nishit',\n",
       " 'popularised': 'nishit',\n",
       " 'not': 'nishit',\n",
       " 'leap': 'nishit',\n",
       " 'electronic': 'nishit',\n",
       " 'typesetting,': 'nishit',\n",
       " 'Lorem': 'nishit',\n",
       " 'including': 'nishit',\n",
       " 'versions': 'nishit',\n",
       " 'typesetting': 'nishit',\n",
       " 'more': 'nishit',\n",
       " 'is': 'nishit',\n",
       " 'Aldus': 'nishit',\n",
       " 'but': 'nishit',\n",
       " 'an': 'nishit',\n",
       " 'type': 'nishit',\n",
       " 'also': 'nishit',\n",
       " 'specimen': 'nishit',\n",
       " 'only': 'nishit',\n",
       " 'It': 'nishit',\n",
       " 'was': 'nishit',\n",
       " 'standard': 'nishit',\n",
       " 'remaining': 'nishit',\n",
       " 'five': 'nishit',\n",
       " 'PageMaker': 'nishit',\n",
       " 'when': 'nishit',\n",
       " 'printer': 'nishit',\n",
       " 'been': 'nishit',\n",
       " 'like': 'nishit',\n",
       " 'unchanged.': 'nishit',\n",
       " 'of': 'nishit',\n",
       " 'desktop': 'nishit'}"
      ]
     },
     "execution_count": 180,
     "metadata": {},
     "output_type": "execute_result"
    }
   ],
   "source": [
    "xd"
   ]
  },
  {
   "cell_type": "code",
   "execution_count": 181,
   "id": "030e5727",
   "metadata": {},
   "outputs": [],
   "source": [
    "lsVal=[]\n",
    "for i in xd.keys():\n",
    "    lsVal.append(xd[i])"
   ]
  },
  {
   "cell_type": "code",
   "execution_count": 182,
   "id": "81a447ca",
   "metadata": {},
   "outputs": [
    {
     "data": {
      "text/plain": [
       "['nishit',\n",
       " 'nishit',\n",
       " 'nishit',\n",
       " 'nishit',\n",
       " 'nishit',\n",
       " 'nishit',\n",
       " 'nishit',\n",
       " 'nishit',\n",
       " 'nishit',\n",
       " 'nishit',\n",
       " 'nishit',\n",
       " 'nishit',\n",
       " 'nishit',\n",
       " 'nishit',\n",
       " 'nishit',\n",
       " 'nishit',\n",
       " 'nishit',\n",
       " 'nishit',\n",
       " 'nishit',\n",
       " 'nishit',\n",
       " 'nishit',\n",
       " 'nishit',\n",
       " 'nishit',\n",
       " 'nishit',\n",
       " 'nishit',\n",
       " 'nishit',\n",
       " 'nishit',\n",
       " 'nishit',\n",
       " 'nishit',\n",
       " 'nishit',\n",
       " 'nishit',\n",
       " 'nishit',\n",
       " 'nishit',\n",
       " 'nishit',\n",
       " 'nishit',\n",
       " 'nishit',\n",
       " 'nishit',\n",
       " 'nishit',\n",
       " 'nishit',\n",
       " 'nishit',\n",
       " 'nishit',\n",
       " 'nishit',\n",
       " 'nishit',\n",
       " 'nishit',\n",
       " 'nishit',\n",
       " 'nishit',\n",
       " 'nishit',\n",
       " 'nishit',\n",
       " 'nishit',\n",
       " 'nishit',\n",
       " 'nishit',\n",
       " 'nishit',\n",
       " 'nishit',\n",
       " 'nishit',\n",
       " 'nishit',\n",
       " 'nishit',\n",
       " 'nishit',\n",
       " 'nishit',\n",
       " 'nishit',\n",
       " 'nishit',\n",
       " 'nishit',\n",
       " 'nishit',\n",
       " 'nishit',\n",
       " 'nishit',\n",
       " 'nishit',\n",
       " 'nishit',\n",
       " 'nishit',\n",
       " 'nishit',\n",
       " 'nishit']"
      ]
     },
     "execution_count": 182,
     "metadata": {},
     "output_type": "execute_result"
    }
   ],
   "source": [
    "lsVal"
   ]
  },
  {
   "cell_type": "code",
   "execution_count": 183,
   "id": "78418494",
   "metadata": {},
   "outputs": [],
   "source": [
    "lsKey=[]\n",
    "for i in xd.keys():\n",
    "    lsKey.append(i)"
   ]
  },
  {
   "cell_type": "code",
   "execution_count": 184,
   "id": "d9f174b2",
   "metadata": {},
   "outputs": [
    {
     "data": {
      "text/plain": [
       "['the',\n",
       " 'to',\n",
       " 'sheets',\n",
       " 'recently',\n",
       " 'Ipsum',\n",
       " 'centuries,',\n",
       " 'took',\n",
       " 'in',\n",
       " 'make',\n",
       " 'with',\n",
       " 'printing',\n",
       " 'it',\n",
       " 'simply',\n",
       " 'publishing',\n",
       " 'survived',\n",
       " 'since',\n",
       " 'unknown',\n",
       " 'Ipsum.',\n",
       " 'containing',\n",
       " 'ever',\n",
       " 'text',\n",
       " '1500s,',\n",
       " 'scrambled',\n",
       " \"industry's\",\n",
       " 'essentially',\n",
       " 'dummy',\n",
       " 'book.',\n",
       " 'release',\n",
       " 'industry.',\n",
       " 'passages,',\n",
       " '1960s',\n",
       " 'a',\n",
       " 'Letraset',\n",
       " 'into',\n",
       " 'has',\n",
       " 'and',\n",
       " 'galley',\n",
       " 'software',\n",
       " 'popularised',\n",
       " 'not',\n",
       " 'leap',\n",
       " 'electronic',\n",
       " 'typesetting,',\n",
       " 'Lorem',\n",
       " 'including',\n",
       " 'versions',\n",
       " 'typesetting',\n",
       " 'more',\n",
       " 'is',\n",
       " 'Aldus',\n",
       " 'but',\n",
       " 'an',\n",
       " 'type',\n",
       " 'also',\n",
       " 'specimen',\n",
       " 'only',\n",
       " 'It',\n",
       " 'was',\n",
       " 'standard',\n",
       " 'remaining',\n",
       " 'five',\n",
       " 'PageMaker',\n",
       " 'when',\n",
       " 'printer',\n",
       " 'been',\n",
       " 'like',\n",
       " 'unchanged.',\n",
       " 'of',\n",
       " 'desktop']"
      ]
     },
     "execution_count": 184,
     "metadata": {},
     "output_type": "execute_result"
    }
   ],
   "source": [
    "lsKey"
   ]
  },
  {
   "cell_type": "code",
   "execution_count": 185,
   "id": "5a582aaa",
   "metadata": {},
   "outputs": [
    {
     "data": {
      "text/plain": [
       "dict_values(['nishit', 'nishit', 'nishit', 'nishit', 'nishit', 'nishit', 'nishit', 'nishit', 'nishit', 'nishit', 'nishit', 'nishit', 'nishit', 'nishit', 'nishit', 'nishit', 'nishit', 'nishit', 'nishit', 'nishit', 'nishit', 'nishit', 'nishit', 'nishit', 'nishit', 'nishit', 'nishit', 'nishit', 'nishit', 'nishit', 'nishit', 'nishit', 'nishit', 'nishit', 'nishit', 'nishit', 'nishit', 'nishit', 'nishit', 'nishit', 'nishit', 'nishit', 'nishit', 'nishit', 'nishit', 'nishit', 'nishit', 'nishit', 'nishit', 'nishit', 'nishit', 'nishit', 'nishit', 'nishit', 'nishit', 'nishit', 'nishit', 'nishit', 'nishit', 'nishit', 'nishit', 'nishit', 'nishit', 'nishit', 'nishit', 'nishit', 'nishit', 'nishit', 'nishit'])"
      ]
     },
     "execution_count": 185,
     "metadata": {},
     "output_type": "execute_result"
    }
   ],
   "source": [
    "xd.values()"
   ]
  },
  {
   "cell_type": "code",
   "execution_count": 186,
   "id": "b8706785",
   "metadata": {},
   "outputs": [
    {
     "data": {
      "text/plain": [
       "{'the': 'test',\n",
       " 'to': 'test',\n",
       " 'sheets': 'test',\n",
       " 'recently': 'test',\n",
       " 'Ipsum': 'test',\n",
       " 'centuries,': 'test',\n",
       " 'took': 'test',\n",
       " 'in': 'test',\n",
       " 'make': 'test',\n",
       " 'with': 'test',\n",
       " 'printing': 'test',\n",
       " 'it': 'test',\n",
       " 'simply': 'test',\n",
       " 'publishing': 'test',\n",
       " 'survived': 'test',\n",
       " 'since': 'test',\n",
       " 'unknown': 'test',\n",
       " 'Ipsum.': 'test',\n",
       " 'containing': 'test',\n",
       " 'ever': 'test',\n",
       " 'text': 'test',\n",
       " '1500s,': 'test',\n",
       " 'scrambled': 'test',\n",
       " \"industry's\": 'test',\n",
       " 'essentially': 'test',\n",
       " 'dummy': 'test',\n",
       " 'book.': 'test',\n",
       " 'release': 'test',\n",
       " 'industry.': 'test',\n",
       " 'passages,': 'test',\n",
       " '1960s': 'test',\n",
       " 'a': 'test',\n",
       " 'Letraset': 'test',\n",
       " 'into': 'test',\n",
       " 'has': 'test',\n",
       " 'and': 'test',\n",
       " 'galley': 'test',\n",
       " 'software': 'test',\n",
       " 'popularised': 'test',\n",
       " 'not': 'test',\n",
       " 'leap': 'test',\n",
       " 'electronic': 'test',\n",
       " 'typesetting,': 'test',\n",
       " 'Lorem': 'test',\n",
       " 'including': 'test',\n",
       " 'versions': 'test',\n",
       " 'typesetting': 'test',\n",
       " 'more': 'test',\n",
       " 'is': 'test',\n",
       " 'Aldus': 'test',\n",
       " 'but': 'test',\n",
       " 'an': 'test',\n",
       " 'type': 'test',\n",
       " 'also': 'test',\n",
       " 'specimen': 'test',\n",
       " 'only': 'test',\n",
       " 'It': 'test',\n",
       " 'was': 'test',\n",
       " 'standard': 'test',\n",
       " 'remaining': 'test',\n",
       " 'five': 'test',\n",
       " 'PageMaker': 'test',\n",
       " 'when': 'test',\n",
       " 'printer': 'test',\n",
       " 'been': 'test',\n",
       " 'like': 'test',\n",
       " 'unchanged.': 'test',\n",
       " 'of': 'test',\n",
       " 'desktop': 'test'}"
      ]
     },
     "execution_count": 186,
     "metadata": {},
     "output_type": "execute_result"
    }
   ],
   "source": [
    "xd.fromkeys(xd,\"test\")"
   ]
  },
  {
   "cell_type": "code",
   "execution_count": 190,
   "id": "7ef07c1c",
   "metadata": {},
   "outputs": [],
   "source": [
    "d={\"comapny\":\"ineuron\",\"course\":\"fsds\",\"year\":2021}"
   ]
  },
  {
   "cell_type": "code",
   "execution_count": 188,
   "id": "4a8bc00a",
   "metadata": {},
   "outputs": [
    {
     "name": "stdout",
     "output_type": "stream",
     "text": [
      "print a key:  comapny ; value wise ineuron\n",
      "print a key:  course ; value wise fsds\n",
      "print a key:  year ; value wise 2021\n"
     ]
    }
   ],
   "source": [
    "for i in d:\n",
    "    print(\"print a key: \", i ,\"; value wise\",d[i])"
   ]
  },
  {
   "cell_type": "code",
   "execution_count": 189,
   "id": "8f3b6083",
   "metadata": {},
   "outputs": [
    {
     "data": {
      "text/plain": [
       "True"
      ]
     },
     "execution_count": 189,
     "metadata": {},
     "output_type": "execute_result"
    }
   ],
   "source": [
    "\"course\" in d"
   ]
  },
  {
   "cell_type": "code",
   "execution_count": 191,
   "id": "0a3577eb",
   "metadata": {},
   "outputs": [],
   "source": [
    "for i in d:\n",
    "    if i==\"year\":\n",
    "        if d[i]>2021:\n",
    "            print(\"year is fine\")\n",
    "        else:\n",
    "            d[i]=2022\n",
    "        "
   ]
  },
  {
   "cell_type": "code",
   "execution_count": 192,
   "id": "419902eb",
   "metadata": {},
   "outputs": [
    {
     "data": {
      "text/plain": [
       "{'comapny': 'ineuron', 'course': 'fsds', 'year': 2022}"
      ]
     },
     "execution_count": 192,
     "metadata": {},
     "output_type": "execute_result"
    }
   ],
   "source": [
    "d"
   ]
  },
  {
   "cell_type": "code",
   "execution_count": 193,
   "id": "6ec55467",
   "metadata": {},
   "outputs": [],
   "source": [
    "md={}\n",
    "for i in range(10):\n",
    "    md[i]=i*i\n",
    "    "
   ]
  },
  {
   "cell_type": "code",
   "execution_count": 194,
   "id": "680ce2b6",
   "metadata": {},
   "outputs": [
    {
     "data": {
      "text/plain": [
       "{0: 0, 1: 1, 2: 4, 3: 9, 4: 16, 5: 25, 6: 36, 7: 49, 8: 64, 9: 81}"
      ]
     },
     "execution_count": 194,
     "metadata": {},
     "output_type": "execute_result"
    }
   ],
   "source": [
    "md"
   ]
  },
  {
   "cell_type": "code",
   "execution_count": 199,
   "id": "9e413428",
   "metadata": {},
   "outputs": [
    {
     "data": {
      "text/plain": [
       "{0: 0, 1: 1, 2: 4, 3: 9, 4: 16, 5: 25, 6: 36, 7: 49, 8: 64, 9: 81}"
      ]
     },
     "execution_count": 199,
     "metadata": {},
     "output_type": "execute_result"
    }
   ],
   "source": [
    "{i:i*i for i in range(0,10)}"
   ]
  },
  {
   "cell_type": "code",
   "execution_count": null,
   "id": "ea7da4a3",
   "metadata": {},
   "outputs": [],
   "source": []
  }
 ],
 "metadata": {
  "kernelspec": {
   "display_name": "Python 3 (ipykernel)",
   "language": "python",
   "name": "python3"
  },
  "language_info": {
   "codemirror_mode": {
    "name": "ipython",
    "version": 3
   },
   "file_extension": ".py",
   "mimetype": "text/x-python",
   "name": "python",
   "nbconvert_exporter": "python",
   "pygments_lexer": "ipython3",
   "version": "3.9.7"
  }
 },
 "nbformat": 4,
 "nbformat_minor": 5
}
