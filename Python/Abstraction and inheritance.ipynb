{
 "cells": [
  {
   "cell_type": "code",
   "execution_count": 26,
   "id": "8ddaf1e1",
   "metadata": {},
   "outputs": [],
   "source": [
    "class test:\n",
    "    def __init__(self,a,b,c,d):\n",
    "        self.__a=a\n",
    "        self.b=b\n",
    "        self.c=c\n",
    "        self.d=d\n",
    "    def test_customer(self,v):\n",
    "        return v - self.__a\n",
    "    def __str__(self):\n",
    "        return \"this is my test code for abstraction\"\n",
    "        "
   ]
  },
  {
   "cell_type": "code",
   "execution_count": 27,
   "id": "268a2282",
   "metadata": {},
   "outputs": [],
   "source": [
    "o=test(4,5,6,7)"
   ]
  },
  {
   "cell_type": "code",
   "execution_count": 28,
   "id": "82079d2b",
   "metadata": {},
   "outputs": [
    {
     "data": {
      "text/plain": [
       "3"
      ]
     },
     "execution_count": 28,
     "metadata": {},
     "output_type": "execute_result"
    }
   ],
   "source": [
    "o.test_customer(7)"
   ]
  },
  {
   "cell_type": "code",
   "execution_count": 30,
   "id": "81024627",
   "metadata": {},
   "outputs": [
    {
     "data": {
      "text/plain": [
       "4"
      ]
     },
     "execution_count": 30,
     "metadata": {},
     "output_type": "execute_result"
    }
   ],
   "source": [
    "o._test__a"
   ]
  },
  {
   "cell_type": "code",
   "execution_count": 32,
   "id": "febfc7e8",
   "metadata": {},
   "outputs": [],
   "source": [
    "class test1(test):\n",
    "    def __init__(self,j,*args):\n",
    "        super(test1,self).__init__(*args)\n",
    "        self.j=j"
   ]
  },
  {
   "cell_type": "code",
   "execution_count": 33,
   "id": "8cb5ac4a",
   "metadata": {},
   "outputs": [],
   "source": [
    "m=test1(4,5,6,7,8)"
   ]
  },
  {
   "cell_type": "code",
   "execution_count": 35,
   "id": "019ad054",
   "metadata": {},
   "outputs": [
    {
     "data": {
      "text/plain": [
       "6"
      ]
     },
     "execution_count": 35,
     "metadata": {},
     "output_type": "execute_result"
    }
   ],
   "source": [
    "m.b"
   ]
  },
  {
   "cell_type": "code",
   "execution_count": 37,
   "id": "00573c7a",
   "metadata": {},
   "outputs": [
    {
     "data": {
      "text/plain": [
       "4"
      ]
     },
     "execution_count": 37,
     "metadata": {},
     "output_type": "execute_result"
    }
   ],
   "source": [
    "m.j"
   ]
  },
  {
   "cell_type": "code",
   "execution_count": 38,
   "id": "a0611cda",
   "metadata": {},
   "outputs": [
    {
     "data": {
      "text/plain": [
       "2"
      ]
     },
     "execution_count": 38,
     "metadata": {},
     "output_type": "execute_result"
    }
   ],
   "source": [
    "m.test_customer(7)"
   ]
  },
  {
   "cell_type": "code",
   "execution_count": 39,
   "id": "c36ca36d",
   "metadata": {},
   "outputs": [
    {
     "ename": "NameError",
     "evalue": "name 'm__a' is not defined",
     "output_type": "error",
     "traceback": [
      "\u001b[1;31m---------------------------------------------------------------------------\u001b[0m",
      "\u001b[1;31mNameError\u001b[0m                                 Traceback (most recent call last)",
      "\u001b[1;32m~\\AppData\\Local\\Temp/ipykernel_6120/3167958204.py\u001b[0m in \u001b[0;36m<module>\u001b[1;34m\u001b[0m\n\u001b[1;32m----> 1\u001b[1;33m \u001b[0mm__a\u001b[0m\u001b[1;33m\u001b[0m\u001b[1;33m\u001b[0m\u001b[0m\n\u001b[0m",
      "\u001b[1;31mNameError\u001b[0m: name 'm__a' is not defined"
     ]
    }
   ],
   "source": [
    "m__a"
   ]
  },
  {
   "cell_type": "code",
   "execution_count": 40,
   "id": "f5154730",
   "metadata": {},
   "outputs": [
    {
     "ename": "AttributeError",
     "evalue": "'test1' object has no attribute '__a'",
     "output_type": "error",
     "traceback": [
      "\u001b[1;31m---------------------------------------------------------------------------\u001b[0m",
      "\u001b[1;31mAttributeError\u001b[0m                            Traceback (most recent call last)",
      "\u001b[1;32m~\\AppData\\Local\\Temp/ipykernel_6120/3150953051.py\u001b[0m in \u001b[0;36m<module>\u001b[1;34m\u001b[0m\n\u001b[1;32m----> 1\u001b[1;33m \u001b[0mm\u001b[0m\u001b[1;33m.\u001b[0m\u001b[0m__a\u001b[0m\u001b[1;33m\u001b[0m\u001b[1;33m\u001b[0m\u001b[0m\n\u001b[0m",
      "\u001b[1;31mAttributeError\u001b[0m: 'test1' object has no attribute '__a'"
     ]
    }
   ],
   "source": [
    "m.__a"
   ]
  },
  {
   "cell_type": "code",
   "execution_count": null,
   "id": "1b486e08",
   "metadata": {},
   "outputs": [],
   "source": []
  }
 ],
 "metadata": {
  "kernelspec": {
   "display_name": "Python 3 (ipykernel)",
   "language": "python",
   "name": "python3"
  },
  "language_info": {
   "codemirror_mode": {
    "name": "ipython",
    "version": 3
   },
   "file_extension": ".py",
   "mimetype": "text/x-python",
   "name": "python",
   "nbconvert_exporter": "python",
   "pygments_lexer": "ipython3",
   "version": "3.9.7"
  }
 },
 "nbformat": 4,
 "nbformat_minor": 5
}
