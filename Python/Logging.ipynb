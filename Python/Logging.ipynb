{
 "cells": [
  {
   "cell_type": "code",
   "execution_count": 7,
   "id": "d7feb93d",
   "metadata": {},
   "outputs": [],
   "source": [
    "import logging as lg\n"
   ]
  },
  {
   "cell_type": "code",
   "execution_count": 2,
   "id": "f8eedc41",
   "metadata": {},
   "outputs": [],
   "source": [
    "import os"
   ]
  },
  {
   "cell_type": "code",
   "execution_count": 3,
   "id": "269b957a",
   "metadata": {},
   "outputs": [
    {
     "ename": "FileExistsError",
     "evalue": "[WinError 183] Cannot create a file when that file already exists: 'logging'",
     "output_type": "error",
     "traceback": [
      "\u001b[1;31m---------------------------------------------------------------------------\u001b[0m",
      "\u001b[1;31mFileExistsError\u001b[0m                           Traceback (most recent call last)",
      "\u001b[1;32m~\\AppData\\Local\\Temp/ipykernel_3152/325184697.py\u001b[0m in \u001b[0;36m<module>\u001b[1;34m\u001b[0m\n\u001b[1;32m----> 1\u001b[1;33m \u001b[0mos\u001b[0m\u001b[1;33m.\u001b[0m\u001b[0mmkdir\u001b[0m\u001b[1;33m(\u001b[0m\u001b[1;34m\"logging\"\u001b[0m\u001b[1;33m)\u001b[0m\u001b[1;33m\u001b[0m\u001b[1;33m\u001b[0m\u001b[0m\n\u001b[0m",
      "\u001b[1;31mFileExistsError\u001b[0m: [WinError 183] Cannot create a file when that file already exists: 'logging'"
     ]
    }
   ],
   "source": [
    "os.mkdir(\"logging\")"
   ]
  },
  {
   "cell_type": "code",
   "execution_count": 3,
   "id": "54587d28",
   "metadata": {},
   "outputs": [],
   "source": [
    "os.chdir(os.getcwd()+\"/\"+\"logging\")"
   ]
  },
  {
   "cell_type": "code",
   "execution_count": 4,
   "id": "a1846ae4",
   "metadata": {},
   "outputs": [
    {
     "data": {
      "text/plain": [
       "'C:\\\\Users\\\\nikita\\\\FullStack DataScience\\\\Python\\\\logging'"
      ]
     },
     "execution_count": 4,
     "metadata": {},
     "output_type": "execute_result"
    }
   ],
   "source": [
    "pwd()"
   ]
  },
  {
   "cell_type": "code",
   "execution_count": 10,
   "id": "3bbbcca4",
   "metadata": {},
   "outputs": [],
   "source": [
    "lg.basicConfig(filename='test.log',level=lg.ERROR,format='%(asctime)s %(message)s')"
   ]
  },
  {
   "cell_type": "code",
   "execution_count": 11,
   "id": "079f7ab7",
   "metadata": {},
   "outputs": [],
   "source": [
    "lg.info(\"i am going to start my programming\")"
   ]
  },
  {
   "cell_type": "code",
   "execution_count": 12,
   "id": "8a9d6825",
   "metadata": {},
   "outputs": [],
   "source": [
    "lg.warning(\"this is a first warning\")"
   ]
  },
  {
   "cell_type": "code",
   "execution_count": 13,
   "id": "add93a6a",
   "metadata": {},
   "outputs": [],
   "source": [
    "lg.error(\"this is a message for error\")"
   ]
  },
  {
   "cell_type": "code",
   "execution_count": 14,
   "id": "34402c48",
   "metadata": {},
   "outputs": [
    {
     "ename": "TypeError",
     "evalue": "can only concatenate str (not \"int\") to str",
     "output_type": "error",
     "traceback": [
      "\u001b[1;31m---------------------------------------------------------------------------\u001b[0m",
      "\u001b[1;31mTypeError\u001b[0m                                 Traceback (most recent call last)",
      "\u001b[1;32m~\\AppData\\Local\\Temp/ipykernel_3508/36526555.py\u001b[0m in \u001b[0;36m<module>\u001b[1;34m\u001b[0m\n\u001b[1;32m----> 1\u001b[1;33m \u001b[1;34m\"sdfdf\"\u001b[0m\u001b[1;33m+\u001b[0m\u001b[1;36m354\u001b[0m\u001b[1;33m\u001b[0m\u001b[1;33m\u001b[0m\u001b[0m\n\u001b[0m",
      "\u001b[1;31mTypeError\u001b[0m: can only concatenate str (not \"int\") to str"
     ]
    }
   ],
   "source": [
    "\"sdfdf\"+354"
   ]
  },
  {
   "cell_type": "code",
   "execution_count": 29,
   "id": "ef5a6a62",
   "metadata": {},
   "outputs": [
    {
     "ename": "SyntaxError",
     "evalue": "invalid syntax (Temp/ipykernel_3508/1227518290.py, line 3)",
     "output_type": "error",
     "traceback": [
      "\u001b[1;36m  File \u001b[1;32m\"C:\\Users\\nikita\\AppData\\Local\\Temp/ipykernel_3508/1227518290.py\"\u001b[1;36m, line \u001b[1;32m3\u001b[0m\n\u001b[1;33m    lg.info(str(a)+|str(b))\u001b[0m\n\u001b[1;37m                   ^\u001b[0m\n\u001b[1;31mSyntaxError\u001b[0m\u001b[1;31m:\u001b[0m invalid syntax\n"
     ]
    }
   ],
   "source": [
    "def test(a,b):\n",
    "    try:\n",
    "        lg.info(str(a)+|str(b))\n",
    "        div=a/b\n",
    "        return div\n",
    "    except Exception as e:\n",
    "        print(\"you can check your log for more info\")\n",
    "        lg.error(\"error has occured\")\n",
    "        lg.exception(str(e))\n"
   ]
  },
  {
   "cell_type": "code",
   "execution_count": 30,
   "id": "1013aa4b",
   "metadata": {},
   "outputs": [
    {
     "name": "stdout",
     "output_type": "stream",
     "text": [
      "you can check your log for more info\n"
     ]
    }
   ],
   "source": [
    "test(4,0)"
   ]
  },
  {
   "cell_type": "code",
   "execution_count": 31,
   "id": "3499dacf",
   "metadata": {},
   "outputs": [],
   "source": [
    "lg.shutdown()"
   ]
  },
  {
   "cell_type": "code",
   "execution_count": 5,
   "id": "4dfb75d2",
   "metadata": {},
   "outputs": [
    {
     "name": "stderr",
     "output_type": "stream",
     "text": [
      "%(asctime)s %(levelname)s %(message)s\n",
      "%(asctime)s %(levelname)s %(message)s\n",
      "%(asctime)s %(levelname)s %(message)s\n",
      "%(asctime)s %(levelname)s %(message)s\n"
     ]
    }
   ],
   "source": [
    "import logging  \n",
    "logging.basicConfig(filename='test1.log',level=logging.DEBUG,format='%(asctime)s %(name)s %(levelname)s %(message)s',filemode='w')\n",
    "console_log=logging.StreamHandler()\n",
    "console_log.setLevel(logging.INFO)\n",
    "format='%(asctime)s %(levelname)s %(message)s'\n",
    "console_log.setFormatter(format)\n",
    "logging.getLogger(\"\").addHandler(console_log)\n",
    "logging.info(\"this is my first code for log\")\n",
    "logger1=logging.getLogger(\"logger1.area1\")\n",
    "logger2=logging.getLogger(\"logger2.area2\")\n",
    "logger3=logging.getLogger(\"logger3.area3\")\n",
    "logger1.info(\"this is info for logger one\")\n",
    "logger2.debug(\"this is debug for logger Two\")\n",
    "logger2.info(\"this is info for logger Two\")\n",
    "logger3.info(\"this is info for logger third\")"
   ]
  },
  {
   "cell_type": "code",
   "execution_count": null,
   "id": "648ebe7a",
   "metadata": {},
   "outputs": [],
   "source": []
  },
  {
   "cell_type": "code",
   "execution_count": null,
   "id": "53845b73",
   "metadata": {},
   "outputs": [],
   "source": []
  },
  {
   "cell_type": "code",
   "execution_count": null,
   "id": "a52a824d",
   "metadata": {},
   "outputs": [],
   "source": []
  },
  {
   "cell_type": "code",
   "execution_count": null,
   "id": "94e64d00",
   "metadata": {},
   "outputs": [],
   "source": []
  },
  {
   "cell_type": "code",
   "execution_count": null,
   "id": "90c19bf6",
   "metadata": {},
   "outputs": [],
   "source": []
  }
 ],
 "metadata": {
  "kernelspec": {
   "display_name": "Python 3 (ipykernel)",
   "language": "python",
   "name": "python3"
  },
  "language_info": {
   "codemirror_mode": {
    "name": "ipython",
    "version": 3
   },
   "file_extension": ".py",
   "mimetype": "text/x-python",
   "name": "python",
   "nbconvert_exporter": "python",
   "pygments_lexer": "ipython3",
   "version": "3.9.7"
  }
 },
 "nbformat": 4,
 "nbformat_minor": 5
}
